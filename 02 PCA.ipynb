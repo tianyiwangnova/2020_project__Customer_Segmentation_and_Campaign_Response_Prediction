{
 "cells": [
  {
   "cell_type": "markdown",
   "metadata": {},
   "source": [
    "# Overview\n",
    "\n",
    "This notebook is for fitting PCA model on the general German population data to reduce the dimension of the data and understand what the important components mean. We will apply the fitted PCA model to the customers data."
   ]
  },
  {
   "cell_type": "markdown",
   "metadata": {},
   "source": [
    "# Load data and packages"
   ]
  },
  {
   "cell_type": "code",
   "execution_count": 93,
   "metadata": {},
   "outputs": [],
   "source": [
    "# import libraries here; add more as necessary\n",
    "import os\n",
    "import datetime\n",
    "import re\n",
    "import pickle \n",
    "import numpy as np\n",
    "import pandas as pd\n",
    "import matplotlib.pyplot as plt\n",
    "import seaborn as sns\n",
    "from sklearn.decomposition import PCA\n",
    "pd.set_option('max_colwidth', 200)\n",
    "pd.set_option('display.max_columns', 100)\n",
    "pd.set_option('max_rows', 400)\n",
    "\n",
    "# magic word for producing visualizations in notebook\n",
    "%matplotlib inline"
   ]
  },
  {
   "cell_type": "code",
   "execution_count": 12,
   "metadata": {},
   "outputs": [],
   "source": [
    "data = pd.read_csv(\"azdias_checkpoint_0307.csv\").set_index(\"LNR\")"
   ]
  },
  {
   "cell_type": "code",
   "execution_count": 3,
   "metadata": {},
   "outputs": [],
   "source": [
    "attribute_values = pd.read_csv(\"attribute_values_cleaned_checkpoint.csv\")"
   ]
  },
  {
   "cell_type": "code",
   "execution_count": 81,
   "metadata": {},
   "outputs": [],
   "source": [
    "customers = pd.read_csv(\"customers_transformed_0308.csv\")"
   ]
  },
  {
   "cell_type": "code",
   "execution_count": 4,
   "metadata": {},
   "outputs": [],
   "source": [
    "attribute_descriptions = attribute_values[attribute_values['Description'].notna()][['Attribute','Description']]\\\n",
    "                         .groupby('Attribute').first().reset_index()\n",
    "attribute_descriptions['Attribute1'] = attribute_descriptions['Attribute']\\\n",
    "                                       .apply(lambda x: \"_\".join(x.split(\"_\")[:-1]))\n",
    "attribute_descriptions['Attribute2'] = attribute_descriptions['Attribute']\\\n",
    "                                       .apply(lambda x: x.split(\"_\")[0])"
   ]
  },
  {
   "cell_type": "code",
   "execution_count": 5,
   "metadata": {},
   "outputs": [],
   "source": [
    "def attribute_to_descriptions(x):\n",
    "    \n",
    "    \"\"\"\n",
    "    Create a helper dataframe to help translate column names of azdias to the actual meanings so that it's \n",
    "    easier for us to understand the meanings of the components later\n",
    "    \"\"\"\n",
    "    \n",
    "    try:\n",
    "        \n",
    "        if x in list(attribute_descriptions['Attribute']):\n",
    "            result = attribute_descriptions[attribute_descriptions['Attribute'] == x]['Description'].values[0]\n",
    "        \n",
    "        elif \"_\".join(x.split(\"_\")[:-1]) in list(attribute_descriptions['Attribute']):\n",
    "            y = \"_\".join(x.split(\"_\")[:-1])\n",
    "            result = attribute_descriptions[attribute_descriptions['Attribute'] == y]['Description'].values[0]\n",
    "        \n",
    "        elif x in list(attribute_descriptions['Attribute1']):\n",
    "            result = attribute_descriptions[attribute_descriptions['Attribute1'] == x]['Description'].values[0]\n",
    "                       \n",
    "        elif \"_\".join(x.split(\"_\")[:-1]) in list(attribute_descriptions['Attribute1']):\n",
    "            z = \"_\".join(x.split(\"_\")[:-1])\n",
    "            result = attribute_descriptions[attribute_descriptions['Attribute1'] == z]['Description'].values[0]\n",
    "        \n",
    "        elif \"_\".join(x.split(\"_\")[:-2]) in list(attribute_descriptions['Attribute1']):\n",
    "            w = \"_\".join(x.split(\"_\")[:-2])\n",
    "            result = attribute_descriptions[attribute_descriptions['Attribute1'] == w]['Description'].values[0]\n",
    "       \n",
    "        elif x.split(\"_\")[0] in list(attribute_descriptions['Attribute2']):\n",
    "            u = x.split(\"_\")[0]\n",
    "            result = attribute_descriptions[attribute_descriptions['Attribute2'] == u]['Description'].values[0]\n",
    "        \n",
    "        return result\n",
    "    \n",
    "    except:\n",
    "\n",
    "        return x"
   ]
  },
  {
   "cell_type": "markdown",
   "metadata": {},
   "source": [
    "# Perform Dimensionality Reduction (PCA) on German general population data"
   ]
  },
  {
   "cell_type": "code",
   "execution_count": 113,
   "metadata": {},
   "outputs": [],
   "source": [
    "pca = PCA(100)"
   ]
  },
  {
   "cell_type": "code",
   "execution_count": 114,
   "metadata": {},
   "outputs": [],
   "source": [
    "general_pca = pca.fit_transform(data)"
   ]
  },
  {
   "cell_type": "code",
   "execution_count": 106,
   "metadata": {},
   "outputs": [],
   "source": [
    "def scree_plot(pca):\n",
    "    '''\n",
    "    Creates a scree plot associated with the principal components \n",
    "    \n",
    "    INPUT: pca - the result of instantian of PCA in scikit learn\n",
    "            \n",
    "    OUTPUT:\n",
    "            None\n",
    "    '''\n",
    "    num_components=len(pca.explained_variance_ratio_)\n",
    "    ind = np.arange(num_components)\n",
    "    vals = pca.explained_variance_ratio_\n",
    " \n",
    "    plt.figure(figsize=(20, 6))\n",
    "    ax = plt.subplot(111)\n",
    "    cumvals = np.cumsum(vals)\n",
    "    ax.bar(ind, vals)\n",
    "    ax.plot(ind, cumvals)\n",
    "    for i in range(num_components):\n",
    "        ax.annotate(r\"%s%%\" % ((str(vals[i]*100)[:4])), (ind[i]+0.2, vals[i]), va=\"bottom\", ha=\"center\", fontsize=12)\n",
    " \n",
    "    ax.xaxis.set_tick_params(width=0)\n",
    "    ax.yaxis.set_tick_params(width=2, length=12)\n",
    " \n",
    "    ax.set_xlabel(\"Principal Component\")\n",
    "    ax.set_ylabel(\"Variance Explained (%)\")\n",
    "    plt.title('Explained Variance Per Principal Component')"
   ]
  },
  {
   "cell_type": "code",
   "execution_count": 115,
   "metadata": {},
   "outputs": [
    {
     "data": {
      "image/png": "[encoded data removed]",
      "text/plain": [
       "<Figure size 1440x432 with 1 Axes>"
      ]
     },
     "metadata": {
      "needs_background": "light"
     },
     "output_type": "display_data"
    }
   ],
   "source": [
    "scree_plot(pca)"
   ]
  },
  {
   "cell_type": "code",
   "execution_count": 15,
   "metadata": {},
   "outputs": [
    {
     "data": {
      "text/plain": [
       "0.6982385273555503"
      ]
     },
     "execution_count": 15,
     "metadata": {},
     "output_type": "execute_result"
    }
   ],
   "source": [
    "# Investigate the variance accounted for by each principal component.\n",
    "sum(pca.explained_variance_ratio_)"
   ]
  },
  {
   "cell_type": "markdown",
   "metadata": {},
   "source": [
    "The first 100 components can explain 70% of the variance."
   ]
  },
  {
   "cell_type": "code",
   "execution_count": 16,
   "metadata": {},
   "outputs": [],
   "source": [
    "pca_components = pd.DataFrame(pca.components_, columns=data.columns)"
   ]
  },
  {
   "cell_type": "code",
   "execution_count": 17,
   "metadata": {},
   "outputs": [],
   "source": [
    "pca_components.columns = [attribute_to_descriptions(i) for i in list(pca_components.columns)]"
   ]
  },
  {
   "cell_type": "code",
   "execution_count": 18,
   "metadata": {},
   "outputs": [],
   "source": [
    "def display_important_features_for_pc(index):\n",
    "    return pd.concat([pca_components.loc[index,:].sort_values(ascending=False).head(3),\n",
    "                      pca_components.loc[index,:].sort_values(ascending=False).tail(3)])"
   ]
  },
  {
   "cell_type": "markdown",
   "metadata": {},
   "source": [
    "# Explain the components"
   ]
  },
  {
   "cell_type": "markdown",
   "metadata": {},
   "source": [
    "### First component\n",
    "\n",
    "Low mobility, 1-2 family houses in the PLZ8, low share of AUDI within the PLZ8."
   ]
  },
  {
   "cell_type": "code",
   "execution_count": 108,
   "metadata": {},
   "outputs": [
    {
     "data": {
      "text/plain": [
       "moving patterns                                         0.133800\n",
       "number of 1-2 family houses in the PLZ8                 0.128520\n",
       "share of AUDI within the PLZ8                           0.128020\n",
       "CAMEO classification 2015 - detailled classification   -0.124806\n",
       "share of AUDI within the PLZ8                          -0.127276\n",
       "number of 6-10 family houses in the PLZ8               -0.127580\n",
       "Name: 0, dtype: float64"
      ]
     },
     "execution_count": 108,
     "metadata": {},
     "output_type": "execute_result"
    }
   ],
   "source": [
    "display_important_features_for_pc(0)"
   ]
  },
  {
   "cell_type": "markdown",
   "metadata": {},
   "source": [
    "### Second component\n",
    "\n",
    "High online affinity and high recent transaction activity"
   ]
  },
  {
   "cell_type": "code",
   "execution_count": 109,
   "metadata": {},
   "outputs": [
    {
     "data": {
      "text/plain": [
       "online affinity                                                        0.145429\n",
       "transaction activity TOTAL POOL in the last 24 months                  0.140497\n",
       "transaction activity TOTAL POOL in the last 12 months                  0.132982\n",
       "customer journey typology                                             -0.130357\n",
       "actuality of the last transaction for the segment mail-order ONLINE   -0.131349\n",
       "actuality of the last transaction with the complete file ONLINE       -0.136164\n",
       "Name: 1, dtype: float64"
      ]
     },
     "execution_count": 109,
     "metadata": {},
     "output_type": "execute_result"
    }
   ],
   "source": [
    "display_important_features_for_pc(1)"
   ]
  },
  {
   "cell_type": "markdown",
   "metadata": {},
   "source": [
    "### Third component\n",
    "\n",
    "High share of BMW & Mercedes Benz, high share of upper middle class cars and upper class cars (BMW5er, BMW7er etc.), low share of small and very small cars (Ford Fiesta, Ford Ka etc.) in the PLZ8, low share of cars with max speed between 140 and 210 km/h within the PLZ8, low numbers of cars with 5 seats in the PLZ8"
   ]
  },
  {
   "cell_type": "code",
   "execution_count": 110,
   "metadata": {},
   "outputs": [
    {
     "data": {
      "text/plain": [
       "share of BMW & Mercedes Benz within the PLZ8                                   0.178220\n",
       "share of upper middle class cars and upper class cars (BMW5er, BMW7er etc.)    0.153275\n",
       "share of MERCEDES within the PLZ8                                              0.151223\n",
       "share of small and very small cars (Ford Fiesta, Ford Ka etc.) in the PLZ8    -0.126484\n",
       "share of cars with max speed between 140 and 210 km/h within the PLZ8         -0.127418\n",
       "number of cars with 5 seats in the PLZ8                                       -0.144333\n",
       "Name: 2, dtype: float64"
      ]
     },
     "execution_count": 110,
     "metadata": {},
     "output_type": "execute_result"
    }
   ],
   "source": [
    "display_important_features_for_pc(2)"
   ]
  },
  {
   "cell_type": "markdown",
   "metadata": {},
   "source": [
    "### Forth component\n",
    "\n",
    "low \"financial typology: be prepared\", older age,  highly likely to be money saver or investor"
   ]
  },
  {
   "cell_type": "code",
   "execution_count": 111,
   "metadata": {},
   "outputs": [
    {
     "data": {
      "text/plain": [
       "financial typology: be prepared                 0.152177\n",
       "age classification through prename analysis     0.141429\n",
       "customer journey typology                       0.112580\n",
       "financial typology: investor                   -0.163427\n",
       "financial typology: unremarkable               -0.164740\n",
       "financial typology: money saver                -0.168190\n",
       "Name: 3, dtype: float64"
      ]
     },
     "execution_count": 111,
     "metadata": {},
     "output_type": "execute_result"
    }
   ],
   "source": [
    "display_important_features_for_pc(3)"
   ]
  },
  {
   "cell_type": "markdown",
   "metadata": {},
   "source": [
    "# Extract important features\n",
    "\n",
    "We will extract the top 2 features (that can be found explanations) for the top 20 components. We will use the output dataframe later."
   ]
  },
  {
   "cell_type": "code",
   "execution_count": 212,
   "metadata": {},
   "outputs": [],
   "source": [
    "#names of important features\n",
    "im_features = []  \n",
    "#meanings of important features\n",
    "im_meanings = []\n",
    "#original feature names\n",
    "im_original_features = []\n",
    "#component_list\n",
    "com_list = []\n",
    "\n",
    "pca_components_pd = pd.DataFrame(pca.components_, columns=data.columns)\n",
    "\n",
    "for i in range(20):\n",
    "    #get the list of the features ranked by values in the component\n",
    "    c = list(pca_components_pd.iloc[i].sort_values(ascending=False).index)\n",
    "    j = 0\n",
    "    for f in c:\n",
    "        d = attribute_to_descriptions(f)\n",
    "        if d != f and j != 2:\n",
    "            j += 1\n",
    "            im_features.append(f)\n",
    "            im_meanings.append(d)\n",
    "            im_original_features.append(attribute_values[attribute_values['Description']==d]['Attribute'].values[0])\n",
    "            com_list.append(i)\n",
    "            \n",
    "important_features_pd = pd.DataFrame({'feature' : im_features,\n",
    "                                                         'description' : im_meanings,\n",
    "                                                         'original_feature' : im_original_features,\n",
    "                                                         'component' : com_list})"
   ]
  },
  {
   "cell_type": "code",
   "execution_count": 216,
   "metadata": {},
   "outputs": [],
   "source": [
    "attribute_values_1 = attribute_values\\\n",
    ".groupby('Attribute')['value__meaning'].apply(list).reset_index()\\\n",
    ".merge(attribute_values[['Attribute','Description']][attribute_values['Description'].notna()], on=\"Attribute\")"
   ]
  },
  {
   "cell_type": "code",
   "execution_count": 223,
   "metadata": {},
   "outputs": [],
   "source": [
    "important_features_pd = important_features_pd\\\n",
    ".merge(attribute_values_1[['Attribute', 'value__meaning']].rename({'Attribute':'original_feature'}, axis=1), how=\"left\")"
   ]
  },
  {
   "cell_type": "code",
   "execution_count": 228,
   "metadata": {},
   "outputs": [
    {
     "data": {
      "text/html": [
       "<div>\n",
       "<style scoped>\n",
       "    .dataframe tbody tr th:only-of-type {\n",
       "        vertical-align: middle;\n",
       "    }\n",
       "\n",
       "    .dataframe tbody tr th {\n",
       "        vertical-align: top;\n",
       "    }\n",
       "\n",
       "    .dataframe thead th {\n",
       "        text-align: right;\n",
       "    }\n",
       "</style>\n",
       "<table border=\"1\" class=\"dataframe\">\n",
       "  <thead>\n",
       "    <tr style=\"text-align: right;\">\n",
       "      <th></th>\n",
       "      <th>feature</th>\n",
       "      <th>description</th>\n",
       "      <th>original_feature</th>\n",
       "      <th>component</th>\n",
       "      <th>value__meaning</th>\n",
       "    </tr>\n",
       "  </thead>\n",
       "  <tbody>\n",
       "    <tr>\n",
       "      <th>0</th>\n",
       "      <td>MOBI_REGIO</td>\n",
       "      <td>moving patterns</td>\n",
       "      <td>MOBI_REGIO</td>\n",
       "      <td>0</td>\n",
       "      <td>[1__very high mobility, 2__high mobility, 3__middle mobility, 4__low mobility, 5__very low mobility , 6__none]</td>\n",
       "    </tr>\n",
       "    <tr>\n",
       "      <th>1</th>\n",
       "      <td>PLZ8_ANTG1</td>\n",
       "      <td>number of 1-2 family houses in the PLZ8</td>\n",
       "      <td>PLZ8_ANTG1</td>\n",
       "      <td>0</td>\n",
       "      <td>[-1__unknown, 0__none, 1__low share, 2__average share, 3__high share, 4__very high share]</td>\n",
       "    </tr>\n",
       "    <tr>\n",
       "      <th>2</th>\n",
       "      <td>ONLINE_AFFINITAET</td>\n",
       "      <td>online affinity</td>\n",
       "      <td>ONLINE_AFFINITAET</td>\n",
       "      <td>1</td>\n",
       "      <td>[0__none, 1__low, 2__middle, 3__high, 4__very high, 5__highest  ]</td>\n",
       "    </tr>\n",
       "    <tr>\n",
       "      <th>3</th>\n",
       "      <td>D19_GESAMT_ANZ_24</td>\n",
       "      <td>transaction activity TOTAL POOL in the last 24 months</td>\n",
       "      <td>D19_GESAMT_ANZ_24</td>\n",
       "      <td>1</td>\n",
       "      <td>[0__no transactions known, 1__very low activity, 2__low activity, 3__slightly increased activity, 4__increased activity, 5__high activity, 6__very high activity]</td>\n",
       "    </tr>\n",
       "    <tr>\n",
       "      <th>4</th>\n",
       "      <td>KBA13_HERST_BMW_BENZ</td>\n",
       "      <td>share of BMW &amp; Mercedes Benz within the PLZ8</td>\n",
       "      <td>KBA13_HERST_BMW_BENZ</td>\n",
       "      <td>2</td>\n",
       "      <td>[-1__unknown, 0__none, 1__very low, 2__low, 3__average, 4__high, 5__very high]</td>\n",
       "    </tr>\n",
       "  </tbody>\n",
       "</table>\n",
       "</div>"
      ],
      "text/plain": [
       "                feature  \\\n",
       "0            MOBI_REGIO   \n",
       "1            PLZ8_ANTG1   \n",
       "2     ONLINE_AFFINITAET   \n",
       "3     D19_GESAMT_ANZ_24   \n",
       "4  KBA13_HERST_BMW_BENZ   \n",
       "\n",
       "                                              description  \\\n",
       "0                                         moving patterns   \n",
       "1                 number of 1-2 family houses in the PLZ8   \n",
       "2                                         online affinity   \n",
       "3  transaction activity TOTAL POOL in the last 24 months    \n",
       "4            share of BMW & Mercedes Benz within the PLZ8   \n",
       "\n",
       "       original_feature  component  \\\n",
       "0            MOBI_REGIO          0   \n",
       "1            PLZ8_ANTG1          0   \n",
       "2     ONLINE_AFFINITAET          1   \n",
       "3     D19_GESAMT_ANZ_24          1   \n",
       "4  KBA13_HERST_BMW_BENZ          2   \n",
       "\n",
       "                                                                                                                                                      value__meaning  \n",
       "0                                                     [1__very high mobility, 2__high mobility, 3__middle mobility, 4__low mobility, 5__very low mobility , 6__none]  \n",
       "1                                                                          [-1__unknown, 0__none, 1__low share, 2__average share, 3__high share, 4__very high share]  \n",
       "2                                                                                                  [0__none, 1__low, 2__middle, 3__high, 4__very high, 5__highest  ]  \n",
       "3  [0__no transactions known, 1__very low activity, 2__low activity, 3__slightly increased activity, 4__increased activity, 5__high activity, 6__very high activity]  \n",
       "4                                                                                     [-1__unknown, 0__none, 1__very low, 2__low, 3__average, 4__high, 5__very high]  "
      ]
     },
     "execution_count": 228,
     "metadata": {},
     "output_type": "execute_result"
    }
   ],
   "source": [
    "important_features_pd.head()"
   ]
  },
  {
   "cell_type": "markdown",
   "metadata": {},
   "source": [
    "# Perform the PCA transformation"
   ]
  },
  {
   "cell_type": "code",
   "execution_count": 80,
   "metadata": {},
   "outputs": [],
   "source": [
    "pca = PCA(100).fit(data)"
   ]
  },
  {
   "cell_type": "code",
   "execution_count": 85,
   "metadata": {},
   "outputs": [],
   "source": [
    "customers_pca = pca.transform(customers)"
   ]
  },
  {
   "cell_type": "markdown",
   "metadata": {},
   "source": [
    "# Checkpoint"
   ]
  },
  {
   "cell_type": "code",
   "execution_count": 118,
   "metadata": {},
   "outputs": [],
   "source": [
    "pd.DataFrame(pca.components_, columns=data.columns).to_csv(\"pca_components_0308.csv\", index=False)"
   ]
  },
  {
   "cell_type": "code",
   "execution_count": 90,
   "metadata": {},
   "outputs": [],
   "source": [
    "pd.DataFrame(general_pca).to_csv(\"general_pca_0308.csv\", index=False)"
   ]
  },
  {
   "cell_type": "code",
   "execution_count": 91,
   "metadata": {},
   "outputs": [],
   "source": [
    "pd.DataFrame(customers_pca).to_csv(\"customers_pca_0308.csv\", index=False)"
   ]
  },
  {
   "cell_type": "code",
   "execution_count": 94,
   "metadata": {},
   "outputs": [],
   "source": [
    "with open(\"pca.p\", 'wb') as pickle_file:\n",
    "    pickle.dump(pca, pickle_file)"
   ]
  },
  {
   "cell_type": "code",
   "execution_count": 174,
   "metadata": {},
   "outputs": [],
   "source": [
    "with open(\"top_20_features.p\", 'wb') as pickle_file:\n",
    "    pickle.dump(top_20_features, pickle_file)"
   ]
  },
  {
   "cell_type": "code",
   "execution_count": 177,
   "metadata": {},
   "outputs": [],
   "source": [
    "data[top_20_features].to_csv(\"general_important_features.csv\", index=False)"
   ]
  },
  {
   "cell_type": "code",
   "execution_count": 179,
   "metadata": {},
   "outputs": [],
   "source": [
    "customers[top_20_features].to_csv(\"customer_important_features.csv\", index=False)"
   ]
  },
  {
   "cell_type": "code",
   "execution_count": 225,
   "metadata": {},
   "outputs": [],
   "source": [
    "important_features_pd.to_csv(\"important_features.csv\", index=False)"
   ]
  }
 ],
 "metadata": {
  "kernelspec": {
   "display_name": "Python 3",
   "language": "python",
   "name": "python3"
  },
  "language_info": {
   "codemirror_mode": {
    "name": "ipython",
    "version": 3
   },
   "file_extension": ".py",
   "mimetype": "text/x-python",
   "name": "python",
   "nbconvert_exporter": "python",
   "pygments_lexer": "ipython3",
   "version": "3.7.1"
  }
 },
 "nbformat": 4,
 "nbformat_minor": 2
}
